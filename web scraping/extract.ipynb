{
 "cells": [
  {
   "cell_type": "markdown",
   "source": [
    "# Baixando as bibliotecas"
   ],
   "metadata": {}
  },
  {
   "cell_type": "code",
   "execution_count": 43,
   "source": [
    "import requests\r\n",
    "import re\r\n",
    "import wget\r\n",
    "import os\r\n",
    "from bs4 import BeautifulSoup, SoupStrainer\r\n",
    "import pandas as pd"
   ],
   "outputs": [],
   "metadata": {}
  },
  {
   "cell_type": "markdown",
   "source": [
    "# Criando uma função para baixar os  arquivos"
   ],
   "metadata": {}
  },
  {
   "cell_type": "code",
   "execution_count": 40,
   "source": [
    "soup = BeautifulSoup(page.text, 'html.parser')\r\n",
    "\r\n",
    "def download_report(soup, name):\r\n",
    "    text = re.compile(f'.*WASDE Report \\({name}\\).*')\r\n",
    "    current_report = soup.find(text=text).find_next().find('a', string=\"Excel\")\r\n",
    "    current_url = current_report['href']\r\n",
    "    r = requests.get(current_url, verify=False)\r\n",
    "    with open(current_url.split('/')[-1], \"wb\") as f:\r\n",
    "        f.write(r.content)"
   ],
   "outputs": [],
   "metadata": {}
  },
  {
   "cell_type": "markdown",
   "source": [
    "# Baixando os arquivos"
   ],
   "metadata": {}
  },
  {
   "cell_type": "code",
   "execution_count": 41,
   "source": [
    "download_report(soup, 'previous')\r\n",
    "download_report(soup, 'current')"
   ],
   "outputs": [
    {
     "output_type": "stream",
     "name": "stderr",
     "text": [
      "C:\\Python\\Python39\\lib\\site-packages\\urllib3\\connectionpool.py:1013: InsecureRequestWarning: Unverified HTTPS request is being made to host 'www.usda.gov'. Adding certificate verification is strongly advised. See: https://urllib3.readthedocs.io/en/1.26.x/advanced-usage.html#ssl-warnings\n",
      "  warnings.warn(\n"
     ]
    }
   ],
   "metadata": {}
  },
  {
   "cell_type": "markdown",
   "source": [
    "# Abrindo os arquivos"
   ],
   "metadata": {}
  },
  {
   "cell_type": "code",
   "execution_count": 66,
   "source": [
    "df1=pd.read_excel('wasde0921.xls', sheet_name=\"Page 16\")\r\n",
    "df2=pd.read_excel('wasde1021.xls', sheet_name=\"Page 16\")"
   ],
   "outputs": [],
   "metadata": {}
  },
  {
   "cell_type": "markdown",
   "source": [
    "# Comparando a diferença entre as exportações em açucar entre os dois relatorios "
   ],
   "metadata": {}
  },
  {
   "cell_type": "code",
   "execution_count": 72,
   "source": [
    "diff = df2.iloc [18, 10] - df1.iloc [18, 10]\r\n",
    "print(diff)"
   ],
   "outputs": [
    {
     "output_type": "stream",
     "name": "stdout",
     "text": [
      "-212\n"
     ]
    }
   ],
   "metadata": {}
  },
  {
   "cell_type": "markdown",
   "source": [
    "# Salvando os resultados em um arquivo csv"
   ],
   "metadata": {}
  },
  {
   "cell_type": "code",
   "execution_count": 77,
   "source": [
    "f = open(\"data.csv\", \"w\")\r\n",
    "f.write(str(diff))\r\n",
    "f.close()"
   ],
   "outputs": [],
   "metadata": {}
  }
 ],
 "metadata": {
  "orig_nbformat": 4,
  "language_info": {
   "name": "python",
   "version": "3.9.5",
   "mimetype": "text/x-python",
   "codemirror_mode": {
    "name": "ipython",
    "version": 3
   },
   "pygments_lexer": "ipython3",
   "nbconvert_exporter": "python",
   "file_extension": ".py"
  },
  "kernelspec": {
   "name": "python3",
   "display_name": "Python 3.9.5 64-bit"
  },
  "interpreter": {
   "hash": "ee5cc6fef2d70a7e71ee3826687cbd150f18158e0b1eef11d4f4f92bb920e304"
  }
 },
 "nbformat": 4,
 "nbformat_minor": 2
}